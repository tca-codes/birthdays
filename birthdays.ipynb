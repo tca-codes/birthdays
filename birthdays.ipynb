{
  "nbformat": 4,
  "nbformat_minor": 0,
  "metadata": {
    "colab": {
      "name": "birthdays.ipynb",
      "provenance": [],
      "authorship_tag": "ABX9TyOrp23p6EeD2+67clf20EAI",
      "include_colab_link": true
    },
    "kernelspec": {
      "name": "python3",
      "display_name": "Python 3"
    },
    "language_info": {
      "name": "python"
    }
  },
  "cells": [
    {
      "cell_type": "markdown",
      "metadata": {
        "id": "view-in-github",
        "colab_type": "text"
      },
      "source": [
        "<a href=\"https://colab.research.google.com/github/tca-codes/birthdays/blob/main/birthdays.ipynb\" target=\"_parent\"><img src=\"https://colab.research.google.com/assets/colab-badge.svg\" alt=\"Open In Colab\"/></a>"
      ]
    },
    {
      "cell_type": "code",
      "execution_count": 1,
      "metadata": {
        "id": "vprEnpY8CRDF"
      },
      "outputs": [],
      "source": [
        "# Import needed Libraries\n",
        "import pandas as pd\n",
        "import numpy as np\n",
        "import matplotlib.pyplot as plt\n",
        "import seaborn as sns\n",
        "from seaborn import heatmap"
      ]
    },
    {
      "cell_type": "code",
      "source": [
        "filename = '/content/US_births_1994-2014.csv'\n",
        "df = pd.read_csv(filename)\n",
        "df"
      ],
      "metadata": {
        "colab": {
          "base_uri": "https://localhost:8080/",
          "height": 424
        },
        "id": "uwZfF4HqCVeO",
        "outputId": "e84f4ed2-b7e9-4ddb-97ff-eda5d0fda1e6"
      },
      "execution_count": 2,
      "outputs": [
        {
          "output_type": "execute_result",
          "data": {
            "text/plain": [
              "      year  month  date_of_month  day_of_week  births\n",
              "0     1994      1              1            6    8096\n",
              "1     1994      1              2            7    7772\n",
              "2     1994      1              3            1   10142\n",
              "3     1994      1              4            2   11248\n",
              "4     1994      1              5            3   11053\n",
              "...    ...    ...            ...          ...     ...\n",
              "7665  2014     12             27            6    8656\n",
              "7666  2014     12             28            7    7724\n",
              "7667  2014     12             29            1   12811\n",
              "7668  2014     12             30            2   13634\n",
              "7669  2014     12             31            3   11990\n",
              "\n",
              "[7670 rows x 5 columns]"
            ],
            "text/html": [
              "\n",
              "  <div id=\"df-7c5a5343-9437-4f93-910c-e0955b1376f8\">\n",
              "    <div class=\"colab-df-container\">\n",
              "      <div>\n",
              "<style scoped>\n",
              "    .dataframe tbody tr th:only-of-type {\n",
              "        vertical-align: middle;\n",
              "    }\n",
              "\n",
              "    .dataframe tbody tr th {\n",
              "        vertical-align: top;\n",
              "    }\n",
              "\n",
              "    .dataframe thead th {\n",
              "        text-align: right;\n",
              "    }\n",
              "</style>\n",
              "<table border=\"1\" class=\"dataframe\">\n",
              "  <thead>\n",
              "    <tr style=\"text-align: right;\">\n",
              "      <th></th>\n",
              "      <th>year</th>\n",
              "      <th>month</th>\n",
              "      <th>date_of_month</th>\n",
              "      <th>day_of_week</th>\n",
              "      <th>births</th>\n",
              "    </tr>\n",
              "  </thead>\n",
              "  <tbody>\n",
              "    <tr>\n",
              "      <th>0</th>\n",
              "      <td>1994</td>\n",
              "      <td>1</td>\n",
              "      <td>1</td>\n",
              "      <td>6</td>\n",
              "      <td>8096</td>\n",
              "    </tr>\n",
              "    <tr>\n",
              "      <th>1</th>\n",
              "      <td>1994</td>\n",
              "      <td>1</td>\n",
              "      <td>2</td>\n",
              "      <td>7</td>\n",
              "      <td>7772</td>\n",
              "    </tr>\n",
              "    <tr>\n",
              "      <th>2</th>\n",
              "      <td>1994</td>\n",
              "      <td>1</td>\n",
              "      <td>3</td>\n",
              "      <td>1</td>\n",
              "      <td>10142</td>\n",
              "    </tr>\n",
              "    <tr>\n",
              "      <th>3</th>\n",
              "      <td>1994</td>\n",
              "      <td>1</td>\n",
              "      <td>4</td>\n",
              "      <td>2</td>\n",
              "      <td>11248</td>\n",
              "    </tr>\n",
              "    <tr>\n",
              "      <th>4</th>\n",
              "      <td>1994</td>\n",
              "      <td>1</td>\n",
              "      <td>5</td>\n",
              "      <td>3</td>\n",
              "      <td>11053</td>\n",
              "    </tr>\n",
              "    <tr>\n",
              "      <th>...</th>\n",
              "      <td>...</td>\n",
              "      <td>...</td>\n",
              "      <td>...</td>\n",
              "      <td>...</td>\n",
              "      <td>...</td>\n",
              "    </tr>\n",
              "    <tr>\n",
              "      <th>7665</th>\n",
              "      <td>2014</td>\n",
              "      <td>12</td>\n",
              "      <td>27</td>\n",
              "      <td>6</td>\n",
              "      <td>8656</td>\n",
              "    </tr>\n",
              "    <tr>\n",
              "      <th>7666</th>\n",
              "      <td>2014</td>\n",
              "      <td>12</td>\n",
              "      <td>28</td>\n",
              "      <td>7</td>\n",
              "      <td>7724</td>\n",
              "    </tr>\n",
              "    <tr>\n",
              "      <th>7667</th>\n",
              "      <td>2014</td>\n",
              "      <td>12</td>\n",
              "      <td>29</td>\n",
              "      <td>1</td>\n",
              "      <td>12811</td>\n",
              "    </tr>\n",
              "    <tr>\n",
              "      <th>7668</th>\n",
              "      <td>2014</td>\n",
              "      <td>12</td>\n",
              "      <td>30</td>\n",
              "      <td>2</td>\n",
              "      <td>13634</td>\n",
              "    </tr>\n",
              "    <tr>\n",
              "      <th>7669</th>\n",
              "      <td>2014</td>\n",
              "      <td>12</td>\n",
              "      <td>31</td>\n",
              "      <td>3</td>\n",
              "      <td>11990</td>\n",
              "    </tr>\n",
              "  </tbody>\n",
              "</table>\n",
              "<p>7670 rows × 5 columns</p>\n",
              "</div>\n",
              "      <button class=\"colab-df-convert\" onclick=\"convertToInteractive('df-7c5a5343-9437-4f93-910c-e0955b1376f8')\"\n",
              "              title=\"Convert this dataframe to an interactive table.\"\n",
              "              style=\"display:none;\">\n",
              "        \n",
              "  <svg xmlns=\"http://www.w3.org/2000/svg\" height=\"24px\"viewBox=\"0 0 24 24\"\n",
              "       width=\"24px\">\n",
              "    <path d=\"M0 0h24v24H0V0z\" fill=\"none\"/>\n",
              "    <path d=\"M18.56 5.44l.94 2.06.94-2.06 2.06-.94-2.06-.94-.94-2.06-.94 2.06-2.06.94zm-11 1L8.5 8.5l.94-2.06 2.06-.94-2.06-.94L8.5 2.5l-.94 2.06-2.06.94zm10 10l.94 2.06.94-2.06 2.06-.94-2.06-.94-.94-2.06-.94 2.06-2.06.94z\"/><path d=\"M17.41 7.96l-1.37-1.37c-.4-.4-.92-.59-1.43-.59-.52 0-1.04.2-1.43.59L10.3 9.45l-7.72 7.72c-.78.78-.78 2.05 0 2.83L4 21.41c.39.39.9.59 1.41.59.51 0 1.02-.2 1.41-.59l7.78-7.78 2.81-2.81c.8-.78.8-2.07 0-2.86zM5.41 20L4 18.59l7.72-7.72 1.47 1.35L5.41 20z\"/>\n",
              "  </svg>\n",
              "      </button>\n",
              "      \n",
              "  <style>\n",
              "    .colab-df-container {\n",
              "      display:flex;\n",
              "      flex-wrap:wrap;\n",
              "      gap: 12px;\n",
              "    }\n",
              "\n",
              "    .colab-df-convert {\n",
              "      background-color: #E8F0FE;\n",
              "      border: none;\n",
              "      border-radius: 50%;\n",
              "      cursor: pointer;\n",
              "      display: none;\n",
              "      fill: #1967D2;\n",
              "      height: 32px;\n",
              "      padding: 0 0 0 0;\n",
              "      width: 32px;\n",
              "    }\n",
              "\n",
              "    .colab-df-convert:hover {\n",
              "      background-color: #E2EBFA;\n",
              "      box-shadow: 0px 1px 2px rgba(60, 64, 67, 0.3), 0px 1px 3px 1px rgba(60, 64, 67, 0.15);\n",
              "      fill: #174EA6;\n",
              "    }\n",
              "\n",
              "    [theme=dark] .colab-df-convert {\n",
              "      background-color: #3B4455;\n",
              "      fill: #D2E3FC;\n",
              "    }\n",
              "\n",
              "    [theme=dark] .colab-df-convert:hover {\n",
              "      background-color: #434B5C;\n",
              "      box-shadow: 0px 1px 3px 1px rgba(0, 0, 0, 0.15);\n",
              "      filter: drop-shadow(0px 1px 2px rgba(0, 0, 0, 0.3));\n",
              "      fill: #FFFFFF;\n",
              "    }\n",
              "  </style>\n",
              "\n",
              "      <script>\n",
              "        const buttonEl =\n",
              "          document.querySelector('#df-7c5a5343-9437-4f93-910c-e0955b1376f8 button.colab-df-convert');\n",
              "        buttonEl.style.display =\n",
              "          google.colab.kernel.accessAllowed ? 'block' : 'none';\n",
              "\n",
              "        async function convertToInteractive(key) {\n",
              "          const element = document.querySelector('#df-7c5a5343-9437-4f93-910c-e0955b1376f8');\n",
              "          const dataTable =\n",
              "            await google.colab.kernel.invokeFunction('convertToInteractive',\n",
              "                                                     [key], {});\n",
              "          if (!dataTable) return;\n",
              "\n",
              "          const docLinkHtml = 'Like what you see? Visit the ' +\n",
              "            '<a target=\"_blank\" href=https://colab.research.google.com/notebooks/data_table.ipynb>data table notebook</a>'\n",
              "            + ' to learn more about interactive tables.';\n",
              "          element.innerHTML = '';\n",
              "          dataTable['output_type'] = 'display_data';\n",
              "          await google.colab.output.renderOutput(dataTable, element);\n",
              "          const docLink = document.createElement('div');\n",
              "          docLink.innerHTML = docLinkHtml;\n",
              "          element.appendChild(docLink);\n",
              "        }\n",
              "      </script>\n",
              "    </div>\n",
              "  </div>\n",
              "  "
            ]
          },
          "metadata": {},
          "execution_count": 2
        }
      ]
    },
    {
      "cell_type": "code",
      "source": [
        "corr = df.corr()"
      ],
      "metadata": {
        "id": "1bO9_xWAC2ZE"
      },
      "execution_count": 3,
      "outputs": []
    },
    {
      "cell_type": "code",
      "source": [
        "sns.heatmap(corr, linewidths=.5);"
      ],
      "metadata": {
        "colab": {
          "base_uri": "https://localhost:8080/",
          "height": 334
        },
        "id": "ef18YjNVDGL2",
        "outputId": "d9c6eb49-2f01-425c-a325-6c7ebb9d8a15"
      },
      "execution_count": 4,
      "outputs": [
        {
          "output_type": "display_data",
          "data": {
            "text/plain": [
              "<Figure size 432x288 with 2 Axes>"
            ],
            "image/png": "[encoded data removed]"
          },
          "metadata": {
            "needs_background": "light"
          }
        }
      ]
    },
    {
      "cell_type": "code",
      "source": [
        "df.groupby('month')['births'].sum().plot(kind='barh', color ='purple');\n",
        "plt.title('Number of Births per Month');\n",
        "plt.xlabel('Total Births');\n",
        "plt.ylabel('Month');"
      ],
      "metadata": {
        "colab": {
          "base_uri": "https://localhost:8080/",
          "height": 295
        },
        "id": "5PtEMHI9DmsG",
        "outputId": "a4685886-dd25-4de9-c63c-c93b2e4adb84"
      },
      "execution_count": 5,
      "outputs": [
        {
          "output_type": "display_data",
          "data": {
            "text/plain": [
              "<Figure size 432x288 with 1 Axes>"
            ],
            "image/png": "[encoded data removed]"
          },
          "metadata": {
            "needs_background": "light"
          }
        }
      ]
    },
    {
      "cell_type": "code",
      "source": [
        "df.groupby('year')['births'].sum().plot(kind='barh', color ='pink');\n",
        "plt.title('Number of Births per Year');\n",
        "plt.xlabel('Total Births');\n",
        "plt.ylabel('Year');"
      ],
      "metadata": {
        "colab": {
          "base_uri": "https://localhost:8080/",
          "height": 295
        },
        "id": "3DV28UYHD_Fw",
        "outputId": "7f12a4c3-693a-4a63-f5fc-2006e8a7a284"
      },
      "execution_count": 6,
      "outputs": [
        {
          "output_type": "display_data",
          "data": {
            "text/plain": [
              "<Figure size 432x288 with 1 Axes>"
            ],
            "image/png": "[encoded data removed]"
          },
          "metadata": {
            "needs_background": "light"
          }
        }
      ]
    },
    {
      "cell_type": "code",
      "source": [
        "result = df.pivot_table(index='month',columns='year',values='births')\n",
        "print(result)"
      ],
      "metadata": {
        "colab": {
          "base_uri": "https://localhost:8080/"
        },
        "id": "f-TdsIdKFzVv",
        "outputId": "3689b5ae-1d4b-4fb2-9d15-1e6aa8606ff2"
      },
      "execution_count": 9,
      "outputs": [
        {
          "output_type": "stream",
          "name": "stdout",
          "text": [
            "year           1994          1995          1996          1997          1998  \\\n",
            "month                                                                         \n",
            "1      10345.322581  10193.967742  10138.161290  10232.612903  10301.290323   \n",
            "2      10761.678571  10539.071429  10405.620690  10412.178571  10668.250000   \n",
            "3      10959.225806  10596.870968  10405.838710  10361.677419  10626.967742   \n",
            "4      10579.733333  10303.966667  10419.833333  10474.333333  10658.600000   \n",
            "5      10654.677419  10791.709677  10506.709677  10655.838710  10661.903226   \n",
            "6      10991.233333  10993.500000  10617.500000  10728.900000  10903.033333   \n",
            "7      11156.838710  10995.903226  11134.258065  11177.612903  11246.806452   \n",
            "8      11360.419355  11314.096774  11171.516129  10939.419355  11120.516129   \n",
            "9      11307.433333  11303.433333  11211.600000  11120.000000  11446.133333   \n",
            "10     10650.709677  10645.548387  10849.870968  10601.838710  10735.161290   \n",
            "11     10646.566667  10360.566667  10313.233333  10242.733333  10441.366667   \n",
            "12     10540.258065  10160.322581  10402.225806  10623.709677  10770.838710   \n",
            "\n",
            "year           1999          2000          2001          2002          2003  \\\n",
            "month                                                                         \n",
            "1      10296.193548  10894.806452  11044.483871  10886.193548  10843.967742   \n",
            "2      10627.428571  11174.000000  11064.964286  11068.214286  11171.035714   \n",
            "3      10739.967742  11220.129032  11140.161290  10882.225806  11050.774194   \n",
            "4      10562.966667  10778.566667  10996.133333  11009.633333  11189.700000   \n",
            "5      10597.612903  11224.193548  11312.548387  11124.225806  11365.000000   \n",
            "6      11073.366667  11596.633333  11253.533333  11114.400000  11429.466667   \n",
            "7      11284.258065  11488.096774  11550.935484  11740.645161  11943.096774   \n",
            "8      11334.548387  11867.516129  11915.580645  11819.645161  11820.032258   \n",
            "9      11646.966667  11866.033333  11666.266667  11856.700000  12210.700000   \n",
            "10     10741.290323  11366.709677  11350.064516  11378.645161  11633.354839   \n",
            "11     10509.633333  11416.466667  11042.533333  10845.966667  10879.600000   \n",
            "12     10750.032258  11158.580645  10795.580645  11026.548387  11311.096774   \n",
            "\n",
            "year   ...          2005          2006          2007          2008  \\\n",
            "month  ...                                                           \n",
            "1      ...  10886.387097  11160.516129  11629.709677  11673.161290   \n",
            "2      ...  11246.071429  11586.964286  11843.464286  11839.793103   \n",
            "3      ...  11455.516129  11694.193548  11802.838710  11467.225806   \n",
            "4      ...  11268.666667  11152.900000  11432.700000  11711.466667   \n",
            "5      ...  11346.322581  11641.967742  11854.548387  11607.580645   \n",
            "6      ...  11885.866667  12120.500000  12116.200000  11781.000000   \n",
            "7      ...  11716.000000  12046.612903  12414.870968  12280.870968   \n",
            "8      ...  12144.096774  12716.096774  12785.645161  12227.290323   \n",
            "9      ...  12345.133333  12706.800000  12425.800000  12454.166667   \n",
            "10     ...  11327.774194  12054.354839  12105.548387  11723.225806   \n",
            "11     ...  11406.066667  11932.533333  11977.833333  10963.500000   \n",
            "12     ...  11442.580645  11697.129032  11619.451613  11603.838710   \n",
            "\n",
            "year           2009          2010          2011          2012          2013  \\\n",
            "month                                                                         \n",
            "1      11063.709677  10584.516129  10478.870968  10343.903226  10559.741935   \n",
            "2      11468.642857  10942.607143  10783.107143  10629.724138  10531.500000   \n",
            "3      11373.258065  11078.967742  10788.354839  10584.612903  10439.645161   \n",
            "4      11394.066667  10971.233333  10574.166667  10337.266667  10494.900000   \n",
            "5      11284.870968  10730.677419  10666.677419  10771.225806  10737.677419   \n",
            "6      11720.666667  11298.866667  11387.900000  11026.166667  10762.266667   \n",
            "7      12048.096774  11278.967742  11285.193548  11337.806452  11370.806452   \n",
            "8      11767.580645  11442.806452  11748.193548  11790.354839  11512.225806   \n",
            "9      12256.466667  11862.900000  11688.733333  11477.766667  11389.200000   \n",
            "10     11389.000000  11024.741935  10746.193548  11289.451613  11105.967742   \n",
            "11     10841.566667  11032.800000  10870.233333  10976.866667  10738.566667   \n",
            "12     11185.935484  11104.741935  10717.161290  10594.387097  10948.354839   \n",
            "\n",
            "year           2014  \n",
            "month                \n",
            "1      10643.935484  \n",
            "2      10746.392857  \n",
            "3      10524.741935  \n",
            "4      10744.300000  \n",
            "5      10854.967742  \n",
            "6      10922.666667  \n",
            "7      11531.483871  \n",
            "8      11486.000000  \n",
            "9      11683.233333  \n",
            "10     11111.967742  \n",
            "11     10621.833333  \n",
            "12     10958.903226  \n",
            "\n",
            "[12 rows x 21 columns]\n"
          ]
        }
      ]
    },
    {
      "cell_type": "code",
      "source": [
        "sns.heatmap(result);"
      ],
      "metadata": {
        "colab": {
          "base_uri": "https://localhost:8080/",
          "height": 295
        },
        "id": "XUsBOxFdGjIn",
        "outputId": "61bc450d-e643-4eb8-d906-46e77c499124"
      },
      "execution_count": 10,
      "outputs": [
        {
          "output_type": "display_data",
          "data": {
            "text/plain": [
              "<Figure size 432x288 with 2 Axes>"
            ],
            "image/png": "[encoded data removed]"
          },
          "metadata": {
            "needs_background": "light"
          }
        }
      ]
    },
    {
      "cell_type": "code",
      "source": [
        ""
      ],
      "metadata": {
        "id": "WYhZEfFnQefz"
      },
      "execution_count": null,
      "outputs": []
    }
  ]
}